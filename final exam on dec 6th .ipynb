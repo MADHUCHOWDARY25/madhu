{
 "cells": [
  {
   "cell_type": "markdown",
   "id": "1c9646ea",
   "metadata": {},
   "source": [
    "problem 1"
   ]
  },
  {
   "cell_type": "markdown",
   "id": "ffa4d81f",
   "metadata": {},
   "source": [
    "#importing libraries"
   ]
  },
  {
   "cell_type": "code",
   "execution_count": 12,
   "id": "28db1ef9",
   "metadata": {},
   "outputs": [],
   "source": [
    "import os \n",
    "import pandas as pd\n",
    "import numpy as np\n",
    "import geopandas as gpd\n",
    "import matplotlib.pyplot as plt \n",
    "from shapely.geometry import Point\n"
   ]
  },
  {
   "cell_type": "code",
   "execution_count": 15,
   "id": "73266e75",
   "metadata": {},
   "outputs": [],
   "source": [
    "nodes = []\n",
    "bars = []"
   ]
  },
  {
   "cell_type": "code",
   "execution_count": 17,
   "id": "42a6ab5f",
   "metadata": {},
   "outputs": [],
   "source": [
    "nodes.append([0,400])\n",
    "nodes.append([400,0])\n",
    "nodes.append([0,200])\n",
    "nodes.append([200,0])\n",
    "\n",
    "bars.append([0,1])\n",
    "bars.append([1,2])\n",
    "bars.append([1,3])\n",
    "bars.append([2,3])\n",
    "bars.append([3,4])\n",
    "bars.append([0,2])\n",
    "bars.append([2,4])"
   ]
  },
  {
   "cell_type": "code",
   "execution_count": 18,
   "id": "73b91c03",
   "metadata": {},
   "outputs": [],
   "source": [
    "nodes = np.array(nodes).astype(float)\n",
    "bars = np.array(bars)"
   ]
  },
  {
   "cell_type": "code",
   "execution_count": 20,
   "id": "388c9986",
   "metadata": {},
   "outputs": [],
   "source": [
    "#applied forces \n",
    "\n",
    "p = np.zeros_like(nodes)"
   ]
  },
  {
   "cell_type": "code",
   "execution_count": 21,
   "id": "be9f5dca",
   "metadata": {},
   "outputs": [],
   "source": [
    "#support displacement \n",
    "\n",
    "Ur = [0,0,0,0]"
   ]
  },
  {
   "cell_type": "code",
   "execution_count": 22,
   "id": "f0f6566f",
   "metadata": {},
   "outputs": [],
   "source": [
    "#condition of dof(1=free, 0=fixed)\n",
    "\n",
    "DOFCON = np.ones_like(nodes).astype(int)\n",
    "DOFCON[0,:] = 0\n",
    "DOFCON[4,:] = 0\n"
   ]
  },
  {
   "cell_type": "code",
   "execution_count": 23,
   "id": "c43f469e",
   "metadata": {},
   "outputs": [],
   "source": [
    "#truss structural analysis\n",
    "\n",
    "def trussanalysis():\n",
    "    NN = len(nodes)\n",
    "    NE =len(bars)\n",
    "    DOF = 2\n",
    "    NDOF = DOF*NN\n",
    "    \n",
    "    "
   ]
  },
  {
   "cell_type": "code",
   "execution_count": 26,
   "id": "d08b575e",
   "metadata": {},
   "outputs": [
    {
     "ename": "ValueError",
     "evalue": "operands could not be broadcast together with shapes (14,2) (0,2,2) ",
     "output_type": "error",
     "traceback": [
      "\u001b[1;31m---------------------------------------------------------------------------\u001b[0m",
      "\u001b[1;31mValueError\u001b[0m                                Traceback (most recent call last)",
      "Input \u001b[1;32mIn [26]\u001b[0m, in \u001b[0;36m<cell line: 3>\u001b[1;34m()\u001b[0m\n\u001b[0;32m      1\u001b[0m \u001b[38;5;66;03m#structural analysis\u001b[39;00m\n\u001b[1;32m----> 3\u001b[0m d \u001b[38;5;241m=\u001b[39m \u001b[43mnodes\u001b[49m\u001b[43m[\u001b[49m\u001b[43mbars\u001b[49m\u001b[43m[\u001b[49m\u001b[43m:\u001b[49m\u001b[43m,\u001b[49m\u001b[38;5;241;43m1\u001b[39;49m\u001b[43m]\u001b[49m\u001b[43m,\u001b[49m\u001b[43m:\u001b[49m\u001b[43m]\u001b[49m\u001b[43m \u001b[49m\u001b[38;5;241;43m-\u001b[39;49m\u001b[43m \u001b[49m\u001b[43mnodes\u001b[49m\u001b[43m[\u001b[49m\u001b[43mbars\u001b[49m\u001b[43m[\u001b[49m\u001b[43m:\u001b[49m\u001b[38;5;241;43m0\u001b[39;49m\u001b[43m]\u001b[49m\u001b[43m,\u001b[49m\u001b[43m:\u001b[49m\u001b[43m]\u001b[49m\n\u001b[0;32m      4\u001b[0m L \u001b[38;5;241m=\u001b[39m np\u001b[38;5;241m.\u001b[39msqrt((d\u001b[38;5;241m*\u001b[39m\u001b[38;5;241m*\u001b[39m\u001b[38;5;241m2\u001b[39m)\u001b[38;5;241m.\u001b[39msum(axis\u001b[38;5;241m=\u001b[39m\u001b[38;5;241m1\u001b[39m))\n\u001b[0;32m      5\u001b[0m angle \u001b[38;5;241m=\u001b[39m d\u001b[38;5;241m.\u001b[39mT\u001b[38;5;241m/\u001b[39mL\n",
      "\u001b[1;31mValueError\u001b[0m: operands could not be broadcast together with shapes (14,2) (0,2,2) "
     ]
    }
   ],
   "source": [
    "#structural analysis\n",
    "\n",
    "d = nodes[bars[:,1],:] - nodes[bars[:0],:]\n",
    "L = np.sqrt((d**2).sum(axis=1))\n",
    "angle = d.T/L\n",
    "a=np.concatenate((-angle.T,angle.T), axis=1)\n",
    "k = np.zeros([NDOF,NDOF])\n",
    "for k in range(1):\n",
    "    aux = 2*bars[k,:]\n",
    "    index = np.r_[aux[0]:aux[0]+2,aux[1]:aux[1]+2]\n",
    "    ES = np.(a[k][np.newaxis].T*E*A,a[k][np.newaxis])/L[k]\n",
    "    k[np.ix_(index,index)] = k[np.ix_(index,index)] +ES\n",
    "    \n",
    "    freeDOF = DOFCON.flatten().nonzero()[0]\n",
    "    kff = k[np.ix_[(freeDOF,free_DOF)]]\n",
    "    krf = kfr.t\n",
    "    pf = p.flatten()[freeDOF]\n",
    "    UF = np.linlag.solve(kff,pf)\n",
    "    U = DOFCON.astype(float).flatten()\n",
    "    U[freeDOF] = Uf\n",
    "    U[supportDOF] = Ur    \n",
    "print(k)"
   ]
  },
  {
   "cell_type": "code",
   "execution_count": 27,
   "id": "2e37ec45",
   "metadata": {},
   "outputs": [],
   "source": [
    "def GaussSeidal(A,B,x,n) :\n",
    "    L= np.tril(A)\n",
    "    U= A-L\n",
    "    for i in range(n):\n",
    "        x = np.dot(np.limalg.inv(L),B-np.dot(U,x))\n",
    "        print(x)\n",
    "    return x "
   ]
  },
  {
   "cell_type": "code",
   "execution_count": null,
   "id": "ee5f0cf4",
   "metadata": {},
   "outputs": [],
   "source": [
    "#result \n",
    "\n"
   ]
  },
  {
   "cell_type": "markdown",
   "id": "ad84a342",
   "metadata": {},
   "source": [
    "problem 3\n"
   ]
  },
  {
   "cell_type": "code",
   "execution_count": 30,
   "id": "6d69c82a",
   "metadata": {},
   "outputs": [],
   "source": [
    "import numpy as np\n",
    "import matplotlib.pyplot as plt"
   ]
  },
  {
   "cell_type": "code",
   "execution_count": null,
   "id": "95a1eb9b",
   "metadata": {},
   "outputs": [],
   "source": [
    "  \n",
    "    \n",
    "def f(x):\n",
    "    return f(x)\n",
    "\n",
    "x = np.linspace(0, 10, 200)\n",
    "y = f(x)\n"
   ]
  },
  {
   "cell_type": "code",
   "execution_count": 1,
   "id": "52153c2e",
   "metadata": {},
   "outputs": [
    {
     "ename": "NameError",
     "evalue": "name 'np' is not defined",
     "output_type": "error",
     "traceback": [
      "\u001b[1;31m---------------------------------------------------------------------------\u001b[0m",
      "\u001b[1;31mNameError\u001b[0m                                 Traceback (most recent call last)",
      "Input \u001b[1;32mIn [1]\u001b[0m, in \u001b[0;36m<cell line: 3>\u001b[1;34m()\u001b[0m\n\u001b[0;32m      1\u001b[0m a, b \u001b[38;5;241m=\u001b[39m \u001b[38;5;241m1\u001b[39m, \u001b[38;5;241m8\u001b[39m \u001b[38;5;66;03m# the left and right boundaries\u001b[39;00m\n\u001b[0;32m      2\u001b[0m N \u001b[38;5;241m=\u001b[39m \u001b[38;5;241m5\u001b[39m \u001b[38;5;66;03m# the number of points\u001b[39;00m\n\u001b[1;32m----> 3\u001b[0m xint \u001b[38;5;241m=\u001b[39m \u001b[43mnp\u001b[49m\u001b[38;5;241m.\u001b[39mlinspace(a, b, N)\n\u001b[0;32m      4\u001b[0m yint \u001b[38;5;241m=\u001b[39m f(xint)\n",
      "\u001b[1;31mNameError\u001b[0m: name 'np' is not defined"
     ]
    }
   ],
   "source": [
    "a, b = 1, 8 # the left and right boundaries\n",
    "N = 5 # the number of points\n",
    "xint = np.linspace(a, b, N)\n",
    "yint = f(xint)"
   ]
  },
  {
   "cell_type": "code",
   "execution_count": 2,
   "id": "0e00b0a0",
   "metadata": {},
   "outputs": [
    {
     "ename": "NameError",
     "evalue": "name 'plt' is not defined",
     "output_type": "error",
     "traceback": [
      "\u001b[1;31m---------------------------------------------------------------------------\u001b[0m",
      "\u001b[1;31mNameError\u001b[0m                                 Traceback (most recent call last)",
      "Input \u001b[1;32mIn [2]\u001b[0m, in \u001b[0;36m<cell line: 1>\u001b[1;34m()\u001b[0m\n\u001b[1;32m----> 1\u001b[0m \u001b[43mplt\u001b[49m\u001b[38;5;241m.\u001b[39mplot(x, y, lw\u001b[38;5;241m=\u001b[39m\u001b[38;5;241m2\u001b[39m)\n\u001b[0;32m      2\u001b[0m plt\u001b[38;5;241m.\u001b[39maxis([\u001b[38;5;241m0\u001b[39m, \u001b[38;5;241m9\u001b[39m, \u001b[38;5;241m0\u001b[39m, \u001b[38;5;241m140\u001b[39m])\n\u001b[0;32m      3\u001b[0m plt\u001b[38;5;241m.\u001b[39mfill_between(xint, \u001b[38;5;241m0\u001b[39m, yint, facecolor\u001b[38;5;241m=\u001b[39m\u001b[38;5;124m'\u001b[39m\u001b[38;5;124mgray\u001b[39m\u001b[38;5;124m'\u001b[39m, alpha\u001b[38;5;241m=\u001b[39m\u001b[38;5;241m0.4\u001b[39m)\n",
      "\u001b[1;31mNameError\u001b[0m: name 'plt' is not defined"
     ]
    }
   ],
   "source": [
    "plt.plot(x, y, lw=2)\n",
    "plt.axis([0, 9, 0, 140])\n",
    "plt.fill_between(xint, 0, yint, facecolor='gray', alpha=0.4)\n",
    "plt.text(0.5 * (a + b), 30,r\"$\\int_a^b f(x)dx$\", horizontalalignment='center', fontsize=20);"
   ]
  },
  {
   "cell_type": "code",
   "execution_count": 3,
   "id": "f03541a8",
   "metadata": {},
   "outputs": [
    {
     "ename": "SyntaxError",
     "evalue": "invalid syntax (794820296.py, line 2)",
     "output_type": "error",
     "traceback": [
      "\u001b[1;36m  Input \u001b[1;32mIn [3]\u001b[1;36m\u001b[0m\n\u001b[1;33m    Mannings coefficient = 0.020\u001b[0m\n\u001b[1;37m             ^\u001b[0m\n\u001b[1;31mSyntaxError\u001b[0m\u001b[1;31m:\u001b[0m invalid syntax\n"
     ]
    }
   ],
   "source": [
    "#data \n",
    "Mannings coefficient = 0.020\n",
    "slope = 3%\n",
    "angle = 45\n",
    "height(h) = 5ft\n",
    "\n",
    "Discharge(Q) = (1.49/n)*A*R*2/3*s**2\n",
    "\n"
   ]
  },
  {
   "cell_type": "code",
   "execution_count": 4,
   "id": "c8389cd2",
   "metadata": {},
   "outputs": [
    {
     "ename": "NameError",
     "evalue": "name 'f' is not defined",
     "output_type": "error",
     "traceback": [
      "\u001b[1;31m---------------------------------------------------------------------------\u001b[0m",
      "\u001b[1;31mNameError\u001b[0m                                 Traceback (most recent call last)",
      "Input \u001b[1;32mIn [4]\u001b[0m, in \u001b[0;36m<cell line: 3>\u001b[1;34m()\u001b[0m\n\u001b[0;32m      1\u001b[0m \u001b[38;5;28;01mfrom\u001b[39;00m \u001b[38;5;21;01m__future__\u001b[39;00m \u001b[38;5;28;01mimport\u001b[39;00m print_function\n\u001b[0;32m      2\u001b[0m \u001b[38;5;28;01mfrom\u001b[39;00m \u001b[38;5;21;01mscipy\u001b[39;00m\u001b[38;5;21;01m.\u001b[39;00m\u001b[38;5;21;01mintegrate\u001b[39;00m \u001b[38;5;28;01mimport\u001b[39;00m quad\n\u001b[1;32m----> 3\u001b[0m integral, error \u001b[38;5;241m=\u001b[39m quad(\u001b[43mf\u001b[49m, a, b)\n\u001b[0;32m      4\u001b[0m integral_trapezoid \u001b[38;5;241m=\u001b[39m \u001b[38;5;28msum\u001b[39m( (xint[\u001b[38;5;241m1\u001b[39m:] \u001b[38;5;241m-\u001b[39m xint[:\u001b[38;5;241m-\u001b[39m\u001b[38;5;241m1\u001b[39m]) \u001b[38;5;241m*\u001b[39m (yint[\u001b[38;5;241m1\u001b[39m:] \u001b[38;5;241m+\u001b[39m yint[:\u001b[38;5;241m-\u001b[39m\u001b[38;5;241m1\u001b[39m]) ) \u001b[38;5;241m/\u001b[39m \u001b[38;5;241m2\u001b[39m\n\u001b[0;32m      5\u001b[0m \u001b[38;5;28mprint\u001b[39m(\u001b[38;5;124m\"\u001b[39m\u001b[38;5;124mThe integral is:\u001b[39m\u001b[38;5;124m\"\u001b[39m, integral, \u001b[38;5;124m\"\u001b[39m\u001b[38;5;124m+/-\u001b[39m\u001b[38;5;124m\"\u001b[39m, error)\n",
      "\u001b[1;31mNameError\u001b[0m: name 'f' is not defined"
     ]
    }
   ],
   "source": [
    "\n",
    "from __future__ import print_function\n",
    "from scipy.integrate import quad\n",
    "integral, error = quad(f, a, b)\n",
    "integral_trapezoid = sum( (xint[1:] - xint[:-1]) * (yint[1:] + yint[:-1]) ) / 2\n",
    "print(\"The integral is:\", integral, \"+/-\", error)\n",
    "print(\"The trapezoid approximation with\", len(xint), \"points is:\", integral_trapezoid)\n"
   ]
  },
  {
   "cell_type": "code",
   "execution_count": null,
   "id": "e23607e3",
   "metadata": {},
   "outputs": [],
   "source": []
  }
 ],
 "metadata": {
  "kernelspec": {
   "display_name": "Python 3 (ipykernel)",
   "language": "python",
   "name": "python3"
  },
  "language_info": {
   "codemirror_mode": {
    "name": "ipython",
    "version": 3
   },
   "file_extension": ".py",
   "mimetype": "text/x-python",
   "name": "python",
   "nbconvert_exporter": "python",
   "pygments_lexer": "ipython3",
   "version": "3.9.12"
  }
 },
 "nbformat": 4,
 "nbformat_minor": 5
}
